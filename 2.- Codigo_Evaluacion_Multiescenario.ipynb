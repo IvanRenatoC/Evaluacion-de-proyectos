{
  "nbformat": 4,
  "nbformat_minor": 0,
  "metadata": {
    "colab": {
      "provenance": []
    },
    "kernelspec": {
      "name": "python3",
      "display_name": "Python 3"
    },
    "language_info": {
      "name": "python"
    }
  },
  "cells": [
    {
      "cell_type": "markdown",
      "source": [
        "# 1.Supuestos iniciales del ejercicicio"
      ],
      "metadata": {
        "id": "UkyT4hNKnorw"
      }
    },
    {
      "cell_type": "markdown",
      "source": [
        "Como en el ejercicio anterior, la siguiente tabla muestra los supuestos y su nomenclatura, que servirán como parámetros del ejercicio de la evaluación de inversión o proyecto.\n",
        "\n",
        "| variable | símbolo definición | comentario |\n",
        "|--|--|--|\n",
        "| Inversión inicial| $M$ | se hace en el tiempo 0 |\n",
        "| Plazo | $P$ | horizonte de evaluación|\n",
        "| Ticket | $p$ | precio promedio unitario|\n",
        "| Venta inicial | $V_0$ |  venta inicial mensual |\n",
        "| Crecimiento (flujo) | $g$ | tasa de crecimiento mensual, puede ser cero al ser constante |\n",
        "| Costos variables| $c$ | pueden ser insumos, materia prima y que representan un porcentaje de la venta|\n",
        "| Gasto fijo |$G$| gastos fijos mensuales, como Arriendo, dividendo, etc.|\n",
        "| Impuesto |$t$| impuestos a las empresas, como por ejemplo 20% de los régimen chileno|\n",
        "| Tasa descuento |$tasa$_$descuento$| impuestos a las empresas, como por ejemplo 8% de los régimen chileno, útil para el cálculo del valor actual neto|"
      ],
      "metadata": {
        "id": "gCRRtoz-n_Rl"
      }
    },
    {
      "cell_type": "markdown",
      "source": [
        "Luego, el valor de cada uno de los parámetros definidos es:\n",
        "\n",
        "*   $M = \\$45.000.000$\n",
        "*   $P = 48$\n",
        "*   $p = \\$5.000$ (por ticket)\n",
        "*   $V_0 = 70$ clientes diarios\n",
        "*   $g = 1\\%$ mensual incremendado según escenario\n",
        "*   $c = 40\\%$ (costos variables)\n",
        "*   $G = \\$4.000.000$ mensuales\n",
        "*   $t = 20\\%$\n",
        "*   $tasa$_$descuento = 8\\%$\n",
        "\n",
        "Estos valores serán asignados en este ejercicio pero pueden ser modificados en virtud de la naturaleza de la inversión."
      ],
      "metadata": {
        "id": "cLIoZvqUpa8R"
      }
    },
    {
      "cell_type": "markdown",
      "source": [
        "# 2.Creación del espacio necesario.\n",
        "\n",
        "Para ejecutar el ejercicio de evaluación multi-escenario de una inversión, es necesario hacer la llamada o instalaciones de las librerias a utilizar.\n",
        "\n",
        "## 2.1 Librerías de tratamiento de datos y visualización"
      ],
      "metadata": {
        "id": "M058MWg9p_JV"
      }
    },
    {
      "cell_type": "code",
      "source": [
        "%pip install numpy-financial"
      ],
      "metadata": {
        "colab": {
          "base_uri": "https://localhost:8080/"
        },
        "id": "Yl_eVTHBv9wC",
        "outputId": "8ac4a52d-4f54-48fd-cda7-efaa42e9d3b3"
      },
      "execution_count": 1,
      "outputs": [
        {
          "output_type": "stream",
          "name": "stdout",
          "text": [
            "Collecting numpy-financial\n",
            "  Downloading numpy_financial-1.0.0-py3-none-any.whl.metadata (2.2 kB)\n",
            "Requirement already satisfied: numpy>=1.15 in /usr/local/lib/python3.11/dist-packages (from numpy-financial) (2.0.2)\n",
            "Downloading numpy_financial-1.0.0-py3-none-any.whl (14 kB)\n",
            "Installing collected packages: numpy-financial\n",
            "Successfully installed numpy-financial-1.0.0\n"
          ]
        }
      ]
    },
    {
      "cell_type": "code",
      "execution_count": 2,
      "metadata": {
        "id": "6l4e1ma7fU11"
      },
      "outputs": [],
      "source": [
        "import numpy as np\n",
        "import pandas as pd\n",
        "import matplotlib.pyplot as plt\n",
        "from numpy_financial import irr, npv\n",
        "import warnings\n",
        "\n",
        "warnings.filterwarnings(\"ignore\")"
      ]
    },
    {
      "cell_type": "markdown",
      "source": [
        "## 2.2 Se declaran los parámetros del ejercicio"
      ],
      "metadata": {
        "id": "aulr9B0MqzgE"
      }
    },
    {
      "cell_type": "code",
      "source": [
        "M = 45000000       # Inversión inicial\n",
        "P = 48             # Horizonte en meses\n",
        "p = 5000           # Precio promedio por venta\n",
        "V0 = 40 * 30       # Clientes iniciales por mes\n",
        "G = 4000000        # Gastos fijos mensuales\n",
        "t = 0.2            # Tasa de impuesto corporativo (20%)\n",
        "tasa_descuento = 0.08  # Para VAN"
      ],
      "metadata": {
        "id": "l5_8OGfpqys_"
      },
      "execution_count": 35,
      "outputs": []
    },
    {
      "cell_type": "markdown",
      "source": [
        "Adicionalmente se incorporan las condiciones para $N$ escenarios."
      ],
      "metadata": {
        "id": "azEKXgunrMby"
      }
    },
    {
      "cell_type": "code",
      "source": [
        "N = 1000\n",
        "g_values = np.linspace(0.01, 0.09, N)\n",
        "c_values = 0.0023 * g_values"
      ],
      "metadata": {
        "id": "FXBJg-3PrRkd"
      },
      "execution_count": 36,
      "outputs": []
    },
    {
      "cell_type": "markdown",
      "source": [
        "##2.3 Vectores de resultados"
      ],
      "metadata": {
        "id": "kXQoLMJkq6eo"
      }
    },
    {
      "cell_type": "code",
      "source": [
        "tir_results = []\n",
        "van_results = []\n",
        "payback_results = []"
      ],
      "metadata": {
        "id": "FZt1EACOq5SK"
      },
      "execution_count": 37,
      "outputs": []
    },
    {
      "cell_type": "markdown",
      "source": [
        "## 3.Desarrollo\n",
        "\n",
        "A continuación se desarrollará el flujo por periodos para posteriormente evaluar la inversión, en cada uno de los escenarios.\n",
        "\n",
        "Por tanto código a continuación realiza una simulación de cuasi Monte Carlo para evaluar la viabilidad financiera del proyecto con los parámetros definidos anteriormente, calculando: el Valor Actual Neto (VAN), la Tasa Interna de Retorno (TIR) y el Período de Recuperación (Payback) para diferentes escenarios."
      ],
      "metadata": {
        "id": "fro1Rt0OsuQX"
      }
    },
    {
      "cell_type": "code",
      "source": [
        "for i in range(N):\n",
        "    g = g_values[i]\n",
        "    c = c_values[i]\n",
        "\n",
        "    flujo_mensual = []\n",
        "    flujo_acumulado = []\n",
        "\n",
        "    for n in range(P+1):\n",
        "        if n == 0:\n",
        "            flujo_mensual.append(-M)\n",
        "            flujo_acumulado.append(-M)\n",
        "        else:\n",
        "            ventas_mes = p * V0 * ((1 + g) ** (n - 1))\n",
        "            costos_var = c * ventas_mes\n",
        "            uoai = ventas_mes - costos_var - G\n",
        "            impuesto = t * uoai if uoai > 0 else 0\n",
        "            flujo = uoai - impuesto\n",
        "\n",
        "            flujo_mensual.append(flujo)\n",
        "            flujo_acumulado.append(flujo_acumulado[-1] + flujo)\n",
        "\n",
        "    # Calculamos VAN, TIR y Payback\n",
        "    van = npv(tasa_descuento, flujo_mensual)\n",
        "    tir = irr(flujo_mensual)\n",
        "\n",
        "    # Payback\n",
        "    payback = None\n",
        "    for j, acumulado in enumerate(flujo_acumulado):\n",
        "        if acumulado >= 0:\n",
        "            payback = j\n",
        "            break\n",
        "    if payback is None:\n",
        "        payback = np.nan  # No recupera en el período\n",
        "\n",
        "    # Guardamos resultados\n",
        "    van_results.append(van)\n",
        "    tir_results.append(tir)\n",
        "    payback_results.append(payback)"
      ],
      "metadata": {
        "id": "igi-D-_7usDn"
      },
      "execution_count": 38,
      "outputs": []
    },
    {
      "cell_type": "markdown",
      "source": [
        "# 4.Confección resultados\n",
        "\n",
        "Desde ahora, se puede ir generando el DataFrame para posteriormente ver los resultados."
      ],
      "metadata": {
        "id": "saqPcIQuvSAv"
      }
    },
    {
      "cell_type": "code",
      "source": [
        "df_resultados = pd.DataFrame({\n",
        "    'g': g_values,\n",
        "    'c': c_values,\n",
        "    'VAN': van_results,\n",
        "    'TIR': tir_results,\n",
        "    'Payback (meses)': payback_results\n",
        "})"
      ],
      "metadata": {
        "id": "NV_WVal7u06W"
      },
      "execution_count": 39,
      "outputs": []
    },
    {
      "cell_type": "code",
      "source": [
        "pd.options.display.float_format = '{:,.2f}'.format"
      ],
      "metadata": {
        "id": "0Z1BV2IbvYkJ"
      },
      "execution_count": 40,
      "outputs": []
    },
    {
      "cell_type": "markdown",
      "source": [
        "## 4.1 Gráficos de sensibilidad"
      ],
      "metadata": {
        "id": "f5RqXxZKvZSH"
      }
    },
    {
      "cell_type": "code",
      "source": [
        "plt.figure(figsize=(12, 8))"
      ],
      "metadata": {
        "colab": {
          "base_uri": "https://localhost:8080/",
          "height": 52
        },
        "id": "17ihTP4Dvz0_",
        "outputId": "9e5e0b34-aacb-4c09-bf6b-6a507ab2e171"
      },
      "execution_count": 41,
      "outputs": [
        {
          "output_type": "execute_result",
          "data": {
            "text/plain": [
              "<Figure size 1200x800 with 0 Axes>"
            ]
          },
          "metadata": {},
          "execution_count": 41
        },
        {
          "output_type": "display_data",
          "data": {
            "text/plain": [
              "<Figure size 1200x800 with 0 Axes>"
            ]
          },
          "metadata": {}
        }
      ]
    },
    {
      "cell_type": "markdown",
      "source": [
        "### 4.1.1 VAN vs tasa de crecimiento"
      ],
      "metadata": {
        "id": "PqZwO_TJzUKQ"
      }
    },
    {
      "cell_type": "code",
      "source": [
        "# VAN vs g\n",
        "#plt.subplot(1, 3, 1)\n",
        "plt.plot(df_resultados['g']*100, df_resultados['VAN']/1e6, color='green')\n",
        "plt.title('VAN vs Crecimiento')\n",
        "plt.xlabel('Crecimiento mensual (%)')\n",
        "plt.ylabel('VAN (MM)')\n",
        "plt.axhline(0, color='gray', linestyle='--')\n",
        "\n",
        "plt.tight_layout()\n",
        "plt.show()"
      ],
      "metadata": {
        "colab": {
          "base_uri": "https://localhost:8080/",
          "height": 487
        },
        "id": "KPIMO7WevozY",
        "outputId": "04ee79b9-5bb7-47ec-c1c5-5e6147c31254"
      },
      "execution_count": 42,
      "outputs": [
        {
          "output_type": "display_data",
          "data": {
            "text/plain": [
              "<Figure size 640x480 with 1 Axes>"
            ],
            "image/png": "[encoded data removed]"
          },
          "metadata": {}
        }
      ]
    },
    {
      "cell_type": "markdown",
      "source": [
        "### 4.1.2 TIR vs tasa de crécimiento"
      ],
      "metadata": {
        "id": "MevsZYtIzf3T"
      }
    },
    {
      "cell_type": "code",
      "source": [
        "# TIR vs g\n",
        "#plt.subplot(1, 3, 2)\n",
        "plt.plot(df_resultados['g']*100, df_resultados['TIR']*100, color='green')\n",
        "plt.title('TIR vs Crecimiento')\n",
        "plt.xlabel('Crecimiento mensual (%)')\n",
        "plt.ylabel('TIR (%)')\n",
        "plt.axhline(0, color='gray', linestyle='--')\n",
        "plt.tight_layout()\n",
        "plt.show()"
      ],
      "metadata": {
        "colab": {
          "base_uri": "https://localhost:8080/",
          "height": 487
        },
        "id": "-x2LbJkmwMNe",
        "outputId": "4b6943c2-6638-4151-a0df-b693e23b3607"
      },
      "execution_count": 45,
      "outputs": [
        {
          "output_type": "display_data",
          "data": {
            "text/plain": [
              "<Figure size 640x480 with 1 Axes>"
            ],
            "image/png": "[encoded data removed]"
          },
          "metadata": {}
        }
      ]
    },
    {
      "cell_type": "markdown",
      "source": [
        "### 4.1.3 Payback vs tasa de crécimiento"
      ],
      "metadata": {
        "id": "HVNQweayzqeA"
      }
    },
    {
      "cell_type": "code",
      "source": [
        "# Payback vs g\n",
        "#plt.subplot(1, 3, 3)\n",
        "plt.plot(df_resultados['g']*100, df_resultados['Payback (meses)'], color='green')\n",
        "plt.title('Payback vs Crecimiento')\n",
        "plt.xlabel('Crecimiento mensual (%)')\n",
        "plt.ylabel('Payback (meses)')\n",
        "plt.ylim(0, P)\n",
        "plt.axhline(P, color='gray', linestyle='--')\n",
        "\n",
        "plt.tight_layout()\n",
        "plt.show()"
      ],
      "metadata": {
        "colab": {
          "base_uri": "https://localhost:8080/",
          "height": 487
        },
        "id": "shMCXIpPwc1O",
        "outputId": "411bcac7-ad73-4e47-ff91-2e50e3a113dc"
      },
      "execution_count": 44,
      "outputs": [
        {
          "output_type": "display_data",
          "data": {
            "text/plain": [
              "<Figure size 640x480 with 1 Axes>"
            ],
            "image/png": "[encoded data removed]"
          },
          "metadata": {}
        }
      ]
    },
    {
      "cell_type": "markdown",
      "source": [
        "## 4.2 Exposición de resultados"
      ],
      "metadata": {
        "id": "VzE_0bbjwum6"
      }
    },
    {
      "cell_type": "code",
      "source": [
        "print(\"\\nResumen de resultados:\")\n",
        "print(df_resultados.describe())"
      ],
      "metadata": {
        "colab": {
          "base_uri": "https://localhost:8080/"
        },
        "id": "VeDrwwomwj20",
        "outputId": "84797b1e-08bd-4940-b82d-fcb5632448dc"
      },
      "execution_count": 46,
      "outputs": [
        {
          "output_type": "stream",
          "name": "stdout",
          "text": [
            "\n",
            "Resumen de resultados:\n",
            "             g        c            VAN      TIR  Payback (meses)\n",
            "count 1,000.00 1,000.00       1,000.00 1,000.00         1,000.00\n",
            "mean      0.05     0.00  49,800,016.63     0.11            14.51\n",
            "std       0.02     0.00  55,711,221.16     0.03             2.86\n",
            "min       0.01     0.00 -18,184,664.79     0.05            11.00\n",
            "25%       0.03     0.00   2,123,368.27     0.08            12.00\n",
            "50%       0.05     0.00  34,593,962.30     0.11            14.00\n",
            "75%       0.07     0.00  88,836,944.63     0.14            16.00\n",
            "max       0.09     0.00 183,029,392.80     0.16            22.00\n"
          ]
        }
      ]
    },
    {
      "cell_type": "markdown",
      "source": [
        "## 4.3 Análisis generativo"
      ],
      "metadata": {
        "id": "7Ok4wksCLOwv"
      }
    },
    {
      "cell_type": "code",
      "source": [
        "import openai\n",
        "import os"
      ],
      "metadata": {
        "id": "QaRB-7Wk0Rnt"
      },
      "execution_count": 47,
      "outputs": []
    },
    {
      "cell_type": "code",
      "source": [
        "# Configura tu clave aquí\n",
        "os.environ[\"OPENAI_API_KEY\"] = \"your key\"\n",
        "openai.api_key = os.getenv(\"OPENAI_API_KEY\")"
      ],
      "metadata": {
        "id": "iBdTyC62468V"
      },
      "execution_count": 29,
      "outputs": []
    },
    {
      "cell_type": "markdown",
      "source": [
        "### 4.4.1 Inputs y contexto"
      ],
      "metadata": {
        "id": "pd-GPLP9MAmw"
      }
    },
    {
      "cell_type": "markdown",
      "source": [
        "Se entregan las estadísticas de las métricas para la evaluación de proyecto, consideradas en este ejercicio."
      ],
      "metadata": {
        "id": "mp0ImHm3MG27"
      }
    },
    {
      "cell_type": "code",
      "source": [
        "estadisticas = df_resultados[['VAN', 'TIR', 'Payback (meses)']].describe()\n",
        "selected_rows = ['mean', 'std', 'min', 'max']\n",
        "result = estadisticas.loc[selected_rows]"
      ],
      "metadata": {
        "id": "LGYc9ycr9frx"
      },
      "execution_count": 48,
      "outputs": []
    },
    {
      "cell_type": "code",
      "source": [
        "personalidad = \"Eres un asesor de inversiones. \"\n",
        "\n",
        "contexto = \"Tienes una inversión de monto $\" + str(M) + \" evaluada para un periodo de \" + str(P) + \" meses, en \" + str(N) + \" en escenarios, \" + \" definidos para un crecimiento que parte en \" + str(g_values.min()) + \" y termina en \" + str(g_values.max()) + \" en partes iguales.\"\n",
        "\n",
        "selected_rows_str = \", \".join(selected_rows)\n",
        "\n",
        "antedecentes = \"El resumen de los escenarios lo entrego para los estadísticos \" + selected_rows_str + ' es:\\n' + str(result) + '\\n'\n",
        "solicitud1 = \" Entrégame un análisis para saber si invertir (obvía el rubro de inversión).\"\n",
        "solicitud2 = \" Además dime las condiciones mínimas para una inversión conveniente, en caso de no cumplirse bajo ningún escenario, expresalo.\"\n",
        "\n",
        "prompt = contexto + antedecentes + solicitud1 + solicitud2"
      ],
      "metadata": {
        "id": "CfoBmTti64rP"
      },
      "execution_count": 49,
      "outputs": []
    },
    {
      "cell_type": "markdown",
      "source": [
        "### 4.4.2 Motor generativo Openai"
      ],
      "metadata": {
        "id": "8N_MC-Q0MlBj"
      }
    },
    {
      "cell_type": "code",
      "source": [
        "response = openai.chat.completions.create(\n",
        "    model=\"gpt-3.5-turbo\",\n",
        "    messages=[\n",
        "        {\"role\": \"system\", \"content\": personalidad},\n",
        "        {\"role\": \"user\", \"content\": prompt}\n",
        "    ],\n",
        "    max_tokens = 1024,\n",
        "    temperature = 1\n",
        ")"
      ],
      "metadata": {
        "id": "GA37H5W3OMCk"
      },
      "execution_count": 50,
      "outputs": []
    },
    {
      "cell_type": "code",
      "source": [
        "print(response.choices[0].message.content)"
      ],
      "metadata": {
        "colab": {
          "base_uri": "https://localhost:8080/"
        },
        "id": "9w1g_cpM8keP",
        "outputId": "8708d105-ea89-4874-e5ab-42e6f899af1c"
      },
      "execution_count": 51,
      "outputs": [
        {
          "output_type": "stream",
          "name": "stdout",
          "text": [
            "Para analizar si la inversión es conveniente, podemos considerar varios puntos clave:\n",
            "\n",
            "1. Valor Esperado Neto (VAN): El VAN promedio de los escenarios es de $49,800,016.63, lo cual indica que en promedio se espera obtener un retorno positivo de casi $50 millones. Esto sugiere que, en general, la inversión tiene un potencial de rentabilidad atractivo.\n",
            "\n",
            "2. Tasa Interna de Retorno (TIR): La TIR promedio es del 11%, lo cual es una tasa de retorno interesante. Esto significa que, en promedio, la inversión podría generar un rendimiento del 11% sobre el período de 48 meses.\n",
            "\n",
            "3. Período de Recuperación (Payback): El período de recuperación promedio es de 14.51 meses, lo cual indica que se espera recuperar la inversión inicial en un poco más de un año.\n",
            "\n",
            "Condiciones mínimas para una inversión conveniente:\n",
            "\n",
            "- VAN positivo: Es importante que el VAN sea positivo en al menos la mayoría de los escenarios para considerar la inversión conveniente.\n",
            "- TIR aceptable: La TIR debe ser igual o superior a la tasa de rendimiento requerida por los inversionistas para que la inversión sea atractiva.\n",
            "- Período de recuperación razonable: El período de recuperación no debe ser excesivamente largo, ya que se espera que los inversionistas recuperen su inversión en un plazo apropiado.\n",
            "\n",
            "En el caso de no cumplirse con estas condiciones mínimas en ningún escenario, significaría que la inversión no sería conveniente. Esto podría deberse a que los posibles retornos no compensarían adecuadamente el riesgo asumido, o que los plazos de recuperación son demasiado prolongados para ser considerados rentables.\n",
            "\n",
            "En resumen, dados los datos proporcionados sobre el VAN, TIR y período de recuperación de la inversión, parece que en general la inversión tiene un potencial positivo. Es importante considerar que existen escenarios donde la inversión podría generar pérdidas, por lo que se recomienda evaluar cuidadosamente el nivel de riesgo asociado y comparar estos resultados con las expectativas y requisitos de los inversionistas antes de tomar una decisión final.\n"
          ]
        }
      ]
    },
    {
      "cell_type": "code",
      "source": [
        "print(f\"Versión de NumPy: {np.__version__}\")\n",
        "print(f\"Versión de Pandas: {pd.__version__}\")\n",
        "print(f\"Versión de Openai: {openai.__version__}\")\n",
        "\n",
        "try:\n",
        "    import numpy_financial as npf\n",
        "    print(f\"Versión de numpy_financial: {npf.__version__}\")\n",
        "except ImportError:\n",
        "    print(\"numpy_financial is not installed.\")\n",
        "except AttributeError:\n",
        "    print(\"Could not get version for numpy_financial. It might not have a __version__ attribute.\")"
      ],
      "metadata": {
        "colab": {
          "base_uri": "https://localhost:8080/"
        },
        "id": "0O-3YH30ABVe",
        "outputId": "9b998c13-3fc1-46e8-b09e-5a6dd7799368"
      },
      "execution_count": 52,
      "outputs": [
        {
          "output_type": "stream",
          "name": "stdout",
          "text": [
            "Versión de NumPy: 2.0.2\n",
            "Versión de Pandas: 2.2.2\n",
            "Versión de Openai: 1.86.0\n",
            "Versión de numpy_financial: 1.0.0\n"
          ]
        }
      ]
    }
  ]
}